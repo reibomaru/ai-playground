{
 "cells": [
  {
   "cell_type": "code",
   "execution_count": 2,
   "metadata": {
    "tags": []
   },
   "outputs": [
    {
     "name": "stdout",
     "output_type": "stream",
     "text": [
      "Requirement already satisfied: entrypoints in /home/reibomaru/.anyenv/envs/pyenv/versions/3.8.16/lib/python3.8/site-packages (0.4)\n",
      "\u001b[33mWARNING: You are using pip version 22.0.4; however, version 23.1.2 is available.\n",
      "You should consider upgrading via the '/home/reibomaru/.anyenv/envs/pyenv/versions/3.8.16/bin/python3.8 -m pip install --upgrade pip' command.\u001b[0m\u001b[33m\n",
      "\u001b[0m"
     ]
    }
   ],
   "source": [
    "!pip install entrypoints"
   ]
  },
  {
   "cell_type": "code",
   "execution_count": 3,
   "metadata": {
    "id": "1W4yl6HBjfn8",
    "tags": []
   },
   "outputs": [
    {
     "name": "stdout",
     "output_type": "stream",
     "text": [
      "\u001b[33mWARNING: You are using pip version 22.0.4; however, version 23.1.2 is available.\n",
      "You should consider upgrading via the '/home/reibomaru/.anyenv/envs/pyenv/versions/3.8.16/bin/python3.8 -m pip install --upgrade pip' command.\u001b[0m\u001b[33m\n",
      "\u001b[0m"
     ]
    }
   ],
   "source": [
    "!pip install huggingface_hub > /dev/null"
   ]
  },
  {
   "cell_type": "code",
   "execution_count": 4,
   "metadata": {
    "colab": {
     "base_uri": "https://localhost:8080/"
    },
    "id": "jH3YTvDolktk",
    "outputId": "a398c50a-7b8e-4d06-c928-a873c45f0a21",
    "tags": []
   },
   "outputs": [
    {
     "name": "stdout",
     "output_type": "stream",
     "text": [
      "Requirement already satisfied: langchain in /home/reibomaru/.anyenv/envs/pyenv/versions/3.8.16/lib/python3.8/site-packages (0.0.153)\n",
      "Requirement already satisfied: numexpr<3.0.0,>=2.8.4 in /home/reibomaru/.anyenv/envs/pyenv/versions/3.8.16/lib/python3.8/site-packages (from langchain) (2.8.4)\n",
      "Requirement already satisfied: async-timeout<5.0.0,>=4.0.0 in /home/reibomaru/.anyenv/envs/pyenv/versions/3.8.16/lib/python3.8/site-packages (from langchain) (4.0.2)\n",
      "Requirement already satisfied: PyYAML>=5.4.1 in /home/reibomaru/.anyenv/envs/pyenv/versions/3.8.16/lib/python3.8/site-packages (from langchain) (6.0)\n",
      "Requirement already satisfied: numpy<2,>=1 in /home/reibomaru/.local/lib/python3.8/site-packages (from langchain) (1.22.3)\n",
      "Requirement already satisfied: tqdm>=4.48.0 in /home/reibomaru/.anyenv/envs/pyenv/versions/3.8.16/lib/python3.8/site-packages (from langchain) (4.65.0)\n",
      "Requirement already satisfied: aiohttp<4.0.0,>=3.8.3 in /home/reibomaru/.anyenv/envs/pyenv/versions/3.8.16/lib/python3.8/site-packages (from langchain) (3.8.4)\n",
      "Requirement already satisfied: requests<3,>=2 in /home/reibomaru/.anyenv/envs/pyenv/versions/3.8.16/lib/python3.8/site-packages (from langchain) (2.29.0)\n",
      "Requirement already satisfied: openapi-schema-pydantic<2.0,>=1.2 in /home/reibomaru/.anyenv/envs/pyenv/versions/3.8.16/lib/python3.8/site-packages (from langchain) (1.2.4)\n",
      "Requirement already satisfied: dataclasses-json<0.6.0,>=0.5.7 in /home/reibomaru/.anyenv/envs/pyenv/versions/3.8.16/lib/python3.8/site-packages (from langchain) (0.5.7)\n",
      "Requirement already satisfied: SQLAlchemy<3,>1.4 in /home/reibomaru/.anyenv/envs/pyenv/versions/3.8.16/lib/python3.8/site-packages (from langchain) (2.0.11)\n",
      "Requirement already satisfied: tenacity<9.0.0,>=8.1.0 in /home/reibomaru/.anyenv/envs/pyenv/versions/3.8.16/lib/python3.8/site-packages (from langchain) (8.2.2)\n",
      "Requirement already satisfied: pydantic<2,>=1 in /home/reibomaru/.anyenv/envs/pyenv/versions/3.8.16/lib/python3.8/site-packages (from langchain) (1.10.7)\n",
      "Requirement already satisfied: yarl<2.0,>=1.0 in /home/reibomaru/.anyenv/envs/pyenv/versions/3.8.16/lib/python3.8/site-packages (from aiohttp<4.0.0,>=3.8.3->langchain) (1.9.2)\n",
      "Requirement already satisfied: charset-normalizer<4.0,>=2.0 in /home/reibomaru/.anyenv/envs/pyenv/versions/3.8.16/lib/python3.8/site-packages (from aiohttp<4.0.0,>=3.8.3->langchain) (3.1.0)\n",
      "Requirement already satisfied: attrs>=17.3.0 in /home/reibomaru/.local/lib/python3.8/site-packages (from aiohttp<4.0.0,>=3.8.3->langchain) (21.4.0)\n",
      "Requirement already satisfied: multidict<7.0,>=4.5 in /home/reibomaru/.anyenv/envs/pyenv/versions/3.8.16/lib/python3.8/site-packages (from aiohttp<4.0.0,>=3.8.3->langchain) (6.0.4)\n",
      "Requirement already satisfied: frozenlist>=1.1.1 in /home/reibomaru/.anyenv/envs/pyenv/versions/3.8.16/lib/python3.8/site-packages (from aiohttp<4.0.0,>=3.8.3->langchain) (1.3.3)\n",
      "Requirement already satisfied: aiosignal>=1.1.2 in /home/reibomaru/.anyenv/envs/pyenv/versions/3.8.16/lib/python3.8/site-packages (from aiohttp<4.0.0,>=3.8.3->langchain) (1.3.1)\n",
      "Requirement already satisfied: marshmallow-enum<2.0.0,>=1.5.1 in /home/reibomaru/.anyenv/envs/pyenv/versions/3.8.16/lib/python3.8/site-packages (from dataclasses-json<0.6.0,>=0.5.7->langchain) (1.5.1)\n",
      "Requirement already satisfied: typing-inspect>=0.4.0 in /home/reibomaru/.anyenv/envs/pyenv/versions/3.8.16/lib/python3.8/site-packages (from dataclasses-json<0.6.0,>=0.5.7->langchain) (0.8.0)\n",
      "Requirement already satisfied: marshmallow<4.0.0,>=3.3.0 in /home/reibomaru/.anyenv/envs/pyenv/versions/3.8.16/lib/python3.8/site-packages (from dataclasses-json<0.6.0,>=0.5.7->langchain) (3.19.0)\n",
      "Requirement already satisfied: typing-extensions>=4.2.0 in /home/reibomaru/.anyenv/envs/pyenv/versions/3.8.16/lib/python3.8/site-packages (from pydantic<2,>=1->langchain) (4.5.0)\n",
      "Requirement already satisfied: certifi>=2017.4.17 in /home/reibomaru/.anyenv/envs/pyenv/versions/3.8.16/lib/python3.8/site-packages (from requests<3,>=2->langchain) (2022.12.7)\n",
      "Requirement already satisfied: idna<4,>=2.5 in /home/reibomaru/.anyenv/envs/pyenv/versions/3.8.16/lib/python3.8/site-packages (from requests<3,>=2->langchain) (3.4)\n",
      "Requirement already satisfied: urllib3<1.27,>=1.21.1 in /home/reibomaru/.anyenv/envs/pyenv/versions/3.8.16/lib/python3.8/site-packages (from requests<3,>=2->langchain) (1.26.15)\n",
      "Requirement already satisfied: greenlet!=0.4.17 in /home/reibomaru/.anyenv/envs/pyenv/versions/3.8.16/lib/python3.8/site-packages (from SQLAlchemy<3,>1.4->langchain) (2.0.2)\n",
      "Requirement already satisfied: packaging>=17.0 in /home/reibomaru/.local/lib/python3.8/site-packages (from marshmallow<4.0.0,>=3.3.0->dataclasses-json<0.6.0,>=0.5.7->langchain) (21.3)\n",
      "Requirement already satisfied: mypy-extensions>=0.3.0 in /home/reibomaru/.anyenv/envs/pyenv/versions/3.8.16/lib/python3.8/site-packages (from typing-inspect>=0.4.0->dataclasses-json<0.6.0,>=0.5.7->langchain) (1.0.0)\n",
      "Requirement already satisfied: pyparsing!=3.0.5,>=2.0.2 in /home/reibomaru/.local/lib/python3.8/site-packages (from packaging>=17.0->marshmallow<4.0.0,>=3.3.0->dataclasses-json<0.6.0,>=0.5.7->langchain) (3.0.7)\n",
      "\u001b[33mWARNING: You are using pip version 22.0.4; however, version 23.1.2 is available.\n",
      "You should consider upgrading via the '/home/reibomaru/.anyenv/envs/pyenv/versions/3.8.16/bin/python3.8 -m pip install --upgrade pip' command.\u001b[0m\u001b[33m\n",
      "\u001b[0m"
     ]
    }
   ],
   "source": [
    "!pip install langchain "
   ]
  },
  {
   "cell_type": "code",
   "execution_count": 5,
   "metadata": {
    "colab": {
     "base_uri": "https://localhost:8080/"
    },
    "id": "fKl1xhvdGPhI",
    "outputId": "8d2407be-64c2-4c86-f43e-9734bcee92a6",
    "tags": []
   },
   "outputs": [
    {
     "name": "stdout",
     "output_type": "stream",
     "text": [
      "Requirement already satisfied: openai in /home/reibomaru/.anyenv/envs/pyenv/versions/3.8.16/lib/python3.8/site-packages (0.27.5)\n",
      "Requirement already satisfied: requests>=2.20 in /home/reibomaru/.anyenv/envs/pyenv/versions/3.8.16/lib/python3.8/site-packages (from openai) (2.29.0)\n",
      "Requirement already satisfied: tqdm in /home/reibomaru/.anyenv/envs/pyenv/versions/3.8.16/lib/python3.8/site-packages (from openai) (4.65.0)\n",
      "Requirement already satisfied: aiohttp in /home/reibomaru/.anyenv/envs/pyenv/versions/3.8.16/lib/python3.8/site-packages (from openai) (3.8.4)\n",
      "Requirement already satisfied: certifi>=2017.4.17 in /home/reibomaru/.anyenv/envs/pyenv/versions/3.8.16/lib/python3.8/site-packages (from requests>=2.20->openai) (2022.12.7)\n",
      "Requirement already satisfied: idna<4,>=2.5 in /home/reibomaru/.anyenv/envs/pyenv/versions/3.8.16/lib/python3.8/site-packages (from requests>=2.20->openai) (3.4)\n",
      "Requirement already satisfied: charset-normalizer<4,>=2 in /home/reibomaru/.anyenv/envs/pyenv/versions/3.8.16/lib/python3.8/site-packages (from requests>=2.20->openai) (3.1.0)\n",
      "Requirement already satisfied: urllib3<1.27,>=1.21.1 in /home/reibomaru/.anyenv/envs/pyenv/versions/3.8.16/lib/python3.8/site-packages (from requests>=2.20->openai) (1.26.15)\n",
      "Requirement already satisfied: attrs>=17.3.0 in /home/reibomaru/.local/lib/python3.8/site-packages (from aiohttp->openai) (21.4.0)\n",
      "Requirement already satisfied: frozenlist>=1.1.1 in /home/reibomaru/.anyenv/envs/pyenv/versions/3.8.16/lib/python3.8/site-packages (from aiohttp->openai) (1.3.3)\n",
      "Requirement already satisfied: yarl<2.0,>=1.0 in /home/reibomaru/.anyenv/envs/pyenv/versions/3.8.16/lib/python3.8/site-packages (from aiohttp->openai) (1.9.2)\n",
      "Requirement already satisfied: async-timeout<5.0,>=4.0.0a3 in /home/reibomaru/.anyenv/envs/pyenv/versions/3.8.16/lib/python3.8/site-packages (from aiohttp->openai) (4.0.2)\n",
      "Requirement already satisfied: aiosignal>=1.1.2 in /home/reibomaru/.anyenv/envs/pyenv/versions/3.8.16/lib/python3.8/site-packages (from aiohttp->openai) (1.3.1)\n",
      "Requirement already satisfied: multidict<7.0,>=4.5 in /home/reibomaru/.anyenv/envs/pyenv/versions/3.8.16/lib/python3.8/site-packages (from aiohttp->openai) (6.0.4)\n",
      "\u001b[33mWARNING: You are using pip version 22.0.4; however, version 23.1.2 is available.\n",
      "You should consider upgrading via the '/home/reibomaru/.anyenv/envs/pyenv/versions/3.8.16/bin/python3.8 -m pip install --upgrade pip' command.\u001b[0m\u001b[33m\n",
      "\u001b[0m"
     ]
    }
   ],
   "source": [
    "!pip install openai"
   ]
  },
  {
   "cell_type": "code",
   "execution_count": 6,
   "metadata": {
    "colab": {
     "base_uri": "https://localhost:8080/",
     "height": 1000
    },
    "id": "u62Wlq2BGZaG",
    "outputId": "cc6e1c89-dc13-496a-a291-d3ad93929214",
    "tags": []
   },
   "outputs": [
    {
     "name": "stdout",
     "output_type": "stream",
     "text": [
      "Requirement already satisfied: chromadb in /home/reibomaru/.anyenv/envs/pyenv/versions/3.8.16/lib/python3.8/site-packages (0.3.21)\n",
      "Requirement already satisfied: hnswlib>=0.7 in /home/reibomaru/.anyenv/envs/pyenv/versions/3.8.16/lib/python3.8/site-packages (from chromadb) (0.7.0)\n",
      "Requirement already satisfied: clickhouse-connect>=0.5.7 in /home/reibomaru/.anyenv/envs/pyenv/versions/3.8.16/lib/python3.8/site-packages (from chromadb) (0.5.22)\n",
      "Requirement already satisfied: requests>=2.28 in /home/reibomaru/.anyenv/envs/pyenv/versions/3.8.16/lib/python3.8/site-packages (from chromadb) (2.29.0)\n",
      "Requirement already satisfied: pandas>=1.3 in /home/reibomaru/.local/lib/python3.8/site-packages (from chromadb) (1.4.2)\n",
      "Requirement already satisfied: duckdb>=0.7.1 in /home/reibomaru/.anyenv/envs/pyenv/versions/3.8.16/lib/python3.8/site-packages (from chromadb) (0.7.1)\n",
      "Requirement already satisfied: numpy>=1.21.6 in /home/reibomaru/.local/lib/python3.8/site-packages (from chromadb) (1.22.3)\n",
      "Requirement already satisfied: uvicorn[standard]>=0.18.3 in /home/reibomaru/.anyenv/envs/pyenv/versions/3.8.16/lib/python3.8/site-packages (from chromadb) (0.22.0)\n",
      "Requirement already satisfied: sentence-transformers>=2.2.2 in /home/reibomaru/.anyenv/envs/pyenv/versions/3.8.16/lib/python3.8/site-packages (from chromadb) (2.2.2)\n",
      "Requirement already satisfied: pydantic>=1.9 in /home/reibomaru/.anyenv/envs/pyenv/versions/3.8.16/lib/python3.8/site-packages (from chromadb) (1.10.7)\n",
      "Requirement already satisfied: fastapi>=0.85.1 in /home/reibomaru/.anyenv/envs/pyenv/versions/3.8.16/lib/python3.8/site-packages (from chromadb) (0.95.1)\n",
      "Requirement already satisfied: posthog>=2.4.0 in /home/reibomaru/.anyenv/envs/pyenv/versions/3.8.16/lib/python3.8/site-packages (from chromadb) (3.0.1)\n",
      "Requirement already satisfied: lz4 in /home/reibomaru/.anyenv/envs/pyenv/versions/3.8.16/lib/python3.8/site-packages (from clickhouse-connect>=0.5.7->chromadb) (4.3.2)\n",
      "Requirement already satisfied: certifi in /home/reibomaru/.anyenv/envs/pyenv/versions/3.8.16/lib/python3.8/site-packages (from clickhouse-connect>=0.5.7->chromadb) (2022.12.7)\n",
      "Requirement already satisfied: zstandard in /home/reibomaru/.anyenv/envs/pyenv/versions/3.8.16/lib/python3.8/site-packages (from clickhouse-connect>=0.5.7->chromadb) (0.21.0)\n",
      "Requirement already satisfied: urllib3>=1.26 in /home/reibomaru/.anyenv/envs/pyenv/versions/3.8.16/lib/python3.8/site-packages (from clickhouse-connect>=0.5.7->chromadb) (1.26.15)\n",
      "Requirement already satisfied: pytz in /home/reibomaru/.local/lib/python3.8/site-packages (from clickhouse-connect>=0.5.7->chromadb) (2022.1)\n",
      "Requirement already satisfied: starlette<0.27.0,>=0.26.1 in /home/reibomaru/.anyenv/envs/pyenv/versions/3.8.16/lib/python3.8/site-packages (from fastapi>=0.85.1->chromadb) (0.26.1)\n",
      "Requirement already satisfied: python-dateutil>=2.8.1 in /home/reibomaru/.local/lib/python3.8/site-packages (from pandas>=1.3->chromadb) (2.8.2)\n",
      "Requirement already satisfied: monotonic>=1.5 in /home/reibomaru/.anyenv/envs/pyenv/versions/3.8.16/lib/python3.8/site-packages (from posthog>=2.4.0->chromadb) (1.6)\n",
      "Requirement already satisfied: backoff>=1.10.0 in /home/reibomaru/.anyenv/envs/pyenv/versions/3.8.16/lib/python3.8/site-packages (from posthog>=2.4.0->chromadb) (2.2.1)\n",
      "Requirement already satisfied: six>=1.5 in /home/reibomaru/.anyenv/envs/pyenv/versions/3.8.16/lib/python3.8/site-packages (from posthog>=2.4.0->chromadb) (1.16.0)\n",
      "Requirement already satisfied: typing-extensions>=4.2.0 in /home/reibomaru/.anyenv/envs/pyenv/versions/3.8.16/lib/python3.8/site-packages (from pydantic>=1.9->chromadb) (4.5.0)\n",
      "Requirement already satisfied: charset-normalizer<4,>=2 in /home/reibomaru/.anyenv/envs/pyenv/versions/3.8.16/lib/python3.8/site-packages (from requests>=2.28->chromadb) (3.1.0)\n",
      "Requirement already satisfied: idna<4,>=2.5 in /home/reibomaru/.anyenv/envs/pyenv/versions/3.8.16/lib/python3.8/site-packages (from requests>=2.28->chromadb) (3.4)\n",
      "Requirement already satisfied: transformers<5.0.0,>=4.6.0 in /home/reibomaru/.anyenv/envs/pyenv/versions/3.8.16/lib/python3.8/site-packages (from sentence-transformers>=2.2.2->chromadb) (4.28.1)\n",
      "Requirement already satisfied: tqdm in /home/reibomaru/.anyenv/envs/pyenv/versions/3.8.16/lib/python3.8/site-packages (from sentence-transformers>=2.2.2->chromadb) (4.65.0)\n",
      "Requirement already satisfied: torch>=1.6.0 in /home/reibomaru/.anyenv/envs/pyenv/versions/3.8.16/lib/python3.8/site-packages (from sentence-transformers>=2.2.2->chromadb) (2.0.0)\n",
      "Requirement already satisfied: torchvision in /home/reibomaru/.anyenv/envs/pyenv/versions/3.8.16/lib/python3.8/site-packages (from sentence-transformers>=2.2.2->chromadb) (0.15.1)\n",
      "Requirement already satisfied: scikit-learn in /home/reibomaru/.anyenv/envs/pyenv/versions/3.8.16/lib/python3.8/site-packages (from sentence-transformers>=2.2.2->chromadb) (1.2.2)\n",
      "Requirement already satisfied: scipy in /home/reibomaru/.anyenv/envs/pyenv/versions/3.8.16/lib/python3.8/site-packages (from sentence-transformers>=2.2.2->chromadb) (1.10.1)\n",
      "Requirement already satisfied: nltk in /home/reibomaru/.anyenv/envs/pyenv/versions/3.8.16/lib/python3.8/site-packages (from sentence-transformers>=2.2.2->chromadb) (3.8.1)\n",
      "Requirement already satisfied: sentencepiece in /home/reibomaru/.anyenv/envs/pyenv/versions/3.8.16/lib/python3.8/site-packages (from sentence-transformers>=2.2.2->chromadb) (0.1.98)\n",
      "Requirement already satisfied: huggingface-hub>=0.4.0 in /home/reibomaru/.anyenv/envs/pyenv/versions/3.8.16/lib/python3.8/site-packages (from sentence-transformers>=2.2.2->chromadb) (0.14.1)\n",
      "Requirement already satisfied: h11>=0.8 in /home/reibomaru/.anyenv/envs/pyenv/versions/3.8.16/lib/python3.8/site-packages (from uvicorn[standard]>=0.18.3->chromadb) (0.14.0)\n",
      "Requirement already satisfied: click>=7.0 in /home/reibomaru/.anyenv/envs/pyenv/versions/3.8.16/lib/python3.8/site-packages (from uvicorn[standard]>=0.18.3->chromadb) (8.1.3)\n",
      "Requirement already satisfied: httptools>=0.5.0 in /home/reibomaru/.anyenv/envs/pyenv/versions/3.8.16/lib/python3.8/site-packages (from uvicorn[standard]>=0.18.3->chromadb) (0.5.0)\n",
      "Requirement already satisfied: python-dotenv>=0.13 in /home/reibomaru/.anyenv/envs/pyenv/versions/3.8.16/lib/python3.8/site-packages (from uvicorn[standard]>=0.18.3->chromadb) (1.0.0)\n",
      "Requirement already satisfied: pyyaml>=5.1 in /home/reibomaru/.anyenv/envs/pyenv/versions/3.8.16/lib/python3.8/site-packages (from uvicorn[standard]>=0.18.3->chromadb) (6.0)\n",
      "Requirement already satisfied: watchfiles>=0.13 in /home/reibomaru/.anyenv/envs/pyenv/versions/3.8.16/lib/python3.8/site-packages (from uvicorn[standard]>=0.18.3->chromadb) (0.19.0)\n",
      "Requirement already satisfied: websockets>=10.4 in /home/reibomaru/.anyenv/envs/pyenv/versions/3.8.16/lib/python3.8/site-packages (from uvicorn[standard]>=0.18.3->chromadb) (11.0.2)\n",
      "Requirement already satisfied: uvloop!=0.15.0,!=0.15.1,>=0.14.0 in /home/reibomaru/.anyenv/envs/pyenv/versions/3.8.16/lib/python3.8/site-packages (from uvicorn[standard]>=0.18.3->chromadb) (0.17.0)\n",
      "Requirement already satisfied: filelock in /home/reibomaru/.anyenv/envs/pyenv/versions/3.8.16/lib/python3.8/site-packages (from huggingface-hub>=0.4.0->sentence-transformers>=2.2.2->chromadb) (3.12.0)\n",
      "Requirement already satisfied: fsspec in /home/reibomaru/.anyenv/envs/pyenv/versions/3.8.16/lib/python3.8/site-packages (from huggingface-hub>=0.4.0->sentence-transformers>=2.2.2->chromadb) (2023.4.0)\n",
      "Requirement already satisfied: packaging>=20.9 in /home/reibomaru/.local/lib/python3.8/site-packages (from huggingface-hub>=0.4.0->sentence-transformers>=2.2.2->chromadb) (21.3)\n",
      "Requirement already satisfied: anyio<5,>=3.4.0 in /home/reibomaru/.local/lib/python3.8/site-packages (from starlette<0.27.0,>=0.26.1->fastapi>=0.85.1->chromadb) (3.5.0)\n",
      "Requirement already satisfied: nvidia-nvtx-cu11==11.7.91 in /home/reibomaru/.anyenv/envs/pyenv/versions/3.8.16/lib/python3.8/site-packages (from torch>=1.6.0->sentence-transformers>=2.2.2->chromadb) (11.7.91)\n",
      "Requirement already satisfied: jinja2 in /home/reibomaru/.local/lib/python3.8/site-packages (from torch>=1.6.0->sentence-transformers>=2.2.2->chromadb) (3.1.1)\n",
      "Requirement already satisfied: nvidia-cuda-runtime-cu11==11.7.99 in /home/reibomaru/.anyenv/envs/pyenv/versions/3.8.16/lib/python3.8/site-packages (from torch>=1.6.0->sentence-transformers>=2.2.2->chromadb) (11.7.99)\n",
      "Requirement already satisfied: nvidia-cuda-cupti-cu11==11.7.101 in /home/reibomaru/.anyenv/envs/pyenv/versions/3.8.16/lib/python3.8/site-packages (from torch>=1.6.0->sentence-transformers>=2.2.2->chromadb) (11.7.101)\n",
      "Requirement already satisfied: nvidia-cublas-cu11==11.10.3.66 in /home/reibomaru/.anyenv/envs/pyenv/versions/3.8.16/lib/python3.8/site-packages (from torch>=1.6.0->sentence-transformers>=2.2.2->chromadb) (11.10.3.66)\n",
      "Requirement already satisfied: nvidia-cufft-cu11==10.9.0.58 in /home/reibomaru/.anyenv/envs/pyenv/versions/3.8.16/lib/python3.8/site-packages (from torch>=1.6.0->sentence-transformers>=2.2.2->chromadb) (10.9.0.58)\n",
      "Requirement already satisfied: nvidia-curand-cu11==10.2.10.91 in /home/reibomaru/.anyenv/envs/pyenv/versions/3.8.16/lib/python3.8/site-packages (from torch>=1.6.0->sentence-transformers>=2.2.2->chromadb) (10.2.10.91)\n",
      "Requirement already satisfied: nvidia-nccl-cu11==2.14.3 in /home/reibomaru/.anyenv/envs/pyenv/versions/3.8.16/lib/python3.8/site-packages (from torch>=1.6.0->sentence-transformers>=2.2.2->chromadb) (2.14.3)\n",
      "Requirement already satisfied: nvidia-cudnn-cu11==8.5.0.96 in /home/reibomaru/.anyenv/envs/pyenv/versions/3.8.16/lib/python3.8/site-packages (from torch>=1.6.0->sentence-transformers>=2.2.2->chromadb) (8.5.0.96)\n",
      "Requirement already satisfied: triton==2.0.0 in /home/reibomaru/.anyenv/envs/pyenv/versions/3.8.16/lib/python3.8/site-packages (from torch>=1.6.0->sentence-transformers>=2.2.2->chromadb) (2.0.0)\n",
      "Requirement already satisfied: networkx in /home/reibomaru/.anyenv/envs/pyenv/versions/3.8.16/lib/python3.8/site-packages (from torch>=1.6.0->sentence-transformers>=2.2.2->chromadb) (3.1)\n",
      "Requirement already satisfied: nvidia-cuda-nvrtc-cu11==11.7.99 in /home/reibomaru/.anyenv/envs/pyenv/versions/3.8.16/lib/python3.8/site-packages (from torch>=1.6.0->sentence-transformers>=2.2.2->chromadb) (11.7.99)\n",
      "Requirement already satisfied: sympy in /home/reibomaru/.anyenv/envs/pyenv/versions/3.8.16/lib/python3.8/site-packages (from torch>=1.6.0->sentence-transformers>=2.2.2->chromadb) (1.11.1)\n",
      "Requirement already satisfied: nvidia-cusparse-cu11==11.7.4.91 in /home/reibomaru/.anyenv/envs/pyenv/versions/3.8.16/lib/python3.8/site-packages (from torch>=1.6.0->sentence-transformers>=2.2.2->chromadb) (11.7.4.91)\n",
      "Requirement already satisfied: nvidia-cusolver-cu11==11.4.0.1 in /home/reibomaru/.anyenv/envs/pyenv/versions/3.8.16/lib/python3.8/site-packages (from torch>=1.6.0->sentence-transformers>=2.2.2->chromadb) (11.4.0.1)\n",
      "Requirement already satisfied: setuptools in /home/reibomaru/.anyenv/envs/pyenv/versions/3.8.16/lib/python3.8/site-packages (from nvidia-cublas-cu11==11.10.3.66->torch>=1.6.0->sentence-transformers>=2.2.2->chromadb) (56.0.0)\n",
      "Requirement already satisfied: wheel in /home/reibomaru/.anyenv/envs/pyenv/versions/3.8.16/lib/python3.8/site-packages (from nvidia-cublas-cu11==11.10.3.66->torch>=1.6.0->sentence-transformers>=2.2.2->chromadb) (0.40.0)\n",
      "Requirement already satisfied: cmake in /home/reibomaru/.anyenv/envs/pyenv/versions/3.8.16/lib/python3.8/site-packages (from triton==2.0.0->torch>=1.6.0->sentence-transformers>=2.2.2->chromadb) (3.26.3)\n",
      "Requirement already satisfied: lit in /home/reibomaru/.anyenv/envs/pyenv/versions/3.8.16/lib/python3.8/site-packages (from triton==2.0.0->torch>=1.6.0->sentence-transformers>=2.2.2->chromadb) (16.0.2)\n",
      "Requirement already satisfied: tokenizers!=0.11.3,<0.14,>=0.11.1 in /home/reibomaru/.anyenv/envs/pyenv/versions/3.8.16/lib/python3.8/site-packages (from transformers<5.0.0,>=4.6.0->sentence-transformers>=2.2.2->chromadb) (0.13.3)\n",
      "Requirement already satisfied: regex!=2019.12.17 in /home/reibomaru/.anyenv/envs/pyenv/versions/3.8.16/lib/python3.8/site-packages (from transformers<5.0.0,>=4.6.0->sentence-transformers>=2.2.2->chromadb) (2023.3.23)\n",
      "Requirement already satisfied: joblib in /home/reibomaru/.anyenv/envs/pyenv/versions/3.8.16/lib/python3.8/site-packages (from nltk->sentence-transformers>=2.2.2->chromadb) (1.2.0)\n",
      "Requirement already satisfied: threadpoolctl>=2.0.0 in /home/reibomaru/.anyenv/envs/pyenv/versions/3.8.16/lib/python3.8/site-packages (from scikit-learn->sentence-transformers>=2.2.2->chromadb) (3.1.0)\n",
      "Requirement already satisfied: pillow!=8.3.*,>=5.3.0 in /home/reibomaru/.anyenv/envs/pyenv/versions/3.8.16/lib/python3.8/site-packages (from torchvision->sentence-transformers>=2.2.2->chromadb) (9.5.0)\n",
      "Requirement already satisfied: sniffio>=1.1 in /home/reibomaru/.local/lib/python3.8/site-packages (from anyio<5,>=3.4.0->starlette<0.27.0,>=0.26.1->fastapi>=0.85.1->chromadb) (1.2.0)\n",
      "Requirement already satisfied: pyparsing!=3.0.5,>=2.0.2 in /home/reibomaru/.local/lib/python3.8/site-packages (from packaging>=20.9->huggingface-hub>=0.4.0->sentence-transformers>=2.2.2->chromadb) (3.0.7)\n",
      "Requirement already satisfied: MarkupSafe>=2.0 in /home/reibomaru/.local/lib/python3.8/site-packages (from jinja2->torch>=1.6.0->sentence-transformers>=2.2.2->chromadb) (2.1.1)\n",
      "Requirement already satisfied: mpmath>=0.19 in /home/reibomaru/.anyenv/envs/pyenv/versions/3.8.16/lib/python3.8/site-packages (from sympy->torch>=1.6.0->sentence-transformers>=2.2.2->chromadb) (1.3.0)\n",
      "\u001b[33mWARNING: You are using pip version 22.0.4; however, version 23.1.2 is available.\n",
      "You should consider upgrading via the '/home/reibomaru/.anyenv/envs/pyenv/versions/3.8.16/bin/python3.8 -m pip install --upgrade pip' command.\u001b[0m\u001b[33m\n",
      "\u001b[0m"
     ]
    }
   ],
   "source": [
    "!pip install chromadb"
   ]
  },
  {
   "cell_type": "code",
   "execution_count": 7,
   "metadata": {
    "colab": {
     "base_uri": "https://localhost:8080/"
    },
    "id": "Pi7P6LwAHEhq",
    "outputId": "b6e25d65-8014-424b-9b47-66843f845c2e",
    "tags": []
   },
   "outputs": [
    {
     "name": "stdout",
     "output_type": "stream",
     "text": [
      "Requirement already satisfied: tiktoken in /home/reibomaru/.anyenv/envs/pyenv/versions/3.8.16/lib/python3.8/site-packages (0.3.3)\n",
      "Requirement already satisfied: regex>=2022.1.18 in /home/reibomaru/.anyenv/envs/pyenv/versions/3.8.16/lib/python3.8/site-packages (from tiktoken) (2023.3.23)\n",
      "Requirement already satisfied: requests>=2.26.0 in /home/reibomaru/.anyenv/envs/pyenv/versions/3.8.16/lib/python3.8/site-packages (from tiktoken) (2.29.0)\n",
      "Requirement already satisfied: charset-normalizer<4,>=2 in /home/reibomaru/.anyenv/envs/pyenv/versions/3.8.16/lib/python3.8/site-packages (from requests>=2.26.0->tiktoken) (3.1.0)\n",
      "Requirement already satisfied: urllib3<1.27,>=1.21.1 in /home/reibomaru/.anyenv/envs/pyenv/versions/3.8.16/lib/python3.8/site-packages (from requests>=2.26.0->tiktoken) (1.26.15)\n",
      "Requirement already satisfied: certifi>=2017.4.17 in /home/reibomaru/.anyenv/envs/pyenv/versions/3.8.16/lib/python3.8/site-packages (from requests>=2.26.0->tiktoken) (2022.12.7)\n",
      "Requirement already satisfied: idna<4,>=2.5 in /home/reibomaru/.anyenv/envs/pyenv/versions/3.8.16/lib/python3.8/site-packages (from requests>=2.26.0->tiktoken) (3.4)\n",
      "\u001b[33mWARNING: You are using pip version 22.0.4; however, version 23.1.2 is available.\n",
      "You should consider upgrading via the '/home/reibomaru/.anyenv/envs/pyenv/versions/3.8.16/bin/python3.8 -m pip install --upgrade pip' command.\u001b[0m\u001b[33m\n",
      "\u001b[0m"
     ]
    }
   ],
   "source": [
    "!pip install tiktoken"
   ]
  },
  {
   "cell_type": "code",
   "execution_count": 8,
   "metadata": {
    "tags": []
   },
   "outputs": [
    {
     "name": "stdout",
     "output_type": "stream",
     "text": [
      "Package                  Version\n",
      "------------------------ ----------\n",
      "aiohttp                  3.8.4\n",
      "aiosignal                1.3.1\n",
      "anyio                    3.5.0\n",
      "argon2-cffi              21.3.0\n",
      "argon2-cffi-bindings     21.2.0\n",
      "asttokens                2.0.5\n",
      "async-timeout            4.0.2\n",
      "attrs                    21.4.0\n",
      "autopep8                 1.6.0\n",
      "Babel                    2.9.1\n",
      "backcall                 0.2.0\n",
      "backoff                  2.2.1\n",
      "beautifulsoup4           4.10.0\n",
      "bleach                   4.1.0\n",
      "certifi                  2022.12.7\n",
      "cffi                     1.15.0\n",
      "charset-normalizer       3.1.0\n",
      "chromadb                 0.3.21\n",
      "click                    8.1.3\n",
      "clickhouse-connect       0.5.22\n",
      "cmake                    3.26.3\n",
      "dataclasses-json         0.5.7\n",
      "debugpy                  1.6.0\n",
      "decorator                5.1.1\n",
      "defusedxml               0.7.1\n",
      "duckdb                   0.7.1\n",
      "entrypoints              0.4\n",
      "executing                0.8.3\n",
      "fastapi                  0.95.1\n",
      "fastjsonschema           2.15.3\n",
      "filelock                 3.12.0\n",
      "frozenlist               1.3.3\n",
      "fsspec                   2023.4.0\n",
      "greenlet                 2.0.2\n",
      "h11                      0.14.0\n",
      "hnswlib                  0.7.0\n",
      "httptools                0.5.0\n",
      "huggingface-hub          0.14.1\n",
      "idna                     3.4\n",
      "importlib-resources      5.6.0\n",
      "ipykernel                6.12.1\n",
      "ipython                  8.2.0\n",
      "ipython-genutils         0.2.0\n",
      "jedi                     0.18.1\n",
      "Jinja2                   3.1.1\n",
      "joblib                   1.2.0\n",
      "json5                    0.9.6\n",
      "jsonschema               4.4.0\n",
      "jupyter-client           7.2.1\n",
      "jupyter-core             4.9.2\n",
      "jupyter-server           1.16.0\n",
      "jupyterlab-pygments      0.1.2\n",
      "jupyterlab-server        2.12.0\n",
      "langchain                0.0.153\n",
      "lit                      16.0.2\n",
      "lz4                      4.3.2\n",
      "MarkupSafe               2.1.1\n",
      "marshmallow              3.19.0\n",
      "marshmallow-enum         1.5.1\n",
      "matplotlib-inline        0.1.3\n",
      "mistune                  0.8.4\n",
      "monotonic                1.6\n",
      "mpmath                   1.3.0\n",
      "multidict                6.0.4\n",
      "mypy-extensions          1.0.0\n",
      "nbclassic                0.3.7\n",
      "nbclient                 0.5.13\n",
      "nbconvert                6.4.5\n",
      "nbformat                 5.3.0\n",
      "nest-asyncio             1.5.5\n",
      "networkx                 3.1\n",
      "nltk                     3.8.1\n",
      "notebook                 6.4.10\n",
      "notebook-shim            0.1.0\n",
      "numexpr                  2.8.4\n",
      "numpy                    1.22.3\n",
      "nvidia-cublas-cu11       11.10.3.66\n",
      "nvidia-cuda-cupti-cu11   11.7.101\n",
      "nvidia-cuda-nvrtc-cu11   11.7.99\n",
      "nvidia-cuda-runtime-cu11 11.7.99\n",
      "nvidia-cudnn-cu11        8.5.0.96\n",
      "nvidia-cufft-cu11        10.9.0.58\n",
      "nvidia-curand-cu11       10.2.10.91\n",
      "nvidia-cusolver-cu11     11.4.0.1\n",
      "nvidia-cusparse-cu11     11.7.4.91\n",
      "nvidia-nccl-cu11         2.14.3\n",
      "nvidia-nvtx-cu11         11.7.91\n",
      "openai                   0.27.5\n",
      "openapi-schema-pydantic  1.2.4\n",
      "packaging                21.3\n",
      "pandas                   1.4.2\n",
      "pandocfilters            1.5.0\n",
      "parso                    0.8.3\n",
      "pexpect                  4.8.0\n",
      "pickleshare              0.7.5\n",
      "Pillow                   9.5.0\n",
      "pip                      22.0.4\n",
      "posthog                  3.0.1\n",
      "prometheus-client        0.13.1\n",
      "prompt-toolkit           3.0.29\n",
      "psutil                   5.9.0\n",
      "ptyprocess               0.7.0\n",
      "pure-eval                0.2.2\n",
      "pycodestyle              2.8.0\n",
      "pycparser                2.21\n",
      "pydantic                 1.10.7\n",
      "Pygments                 2.11.2\n",
      "pyparsing                3.0.7\n",
      "pyrsistent               0.18.1\n",
      "python-dateutil          2.8.2\n",
      "python-dotenv            1.0.0\n",
      "pytz                     2022.1\n",
      "PyYAML                   6.0\n",
      "pyzmq                    22.3.0\n",
      "regex                    2023.3.23\n",
      "requests                 2.29.0\n",
      "scikit-learn             1.2.2\n",
      "scipy                    1.10.1\n",
      "Send2Trash               1.8.0\n",
      "sentence-transformers    2.2.2\n",
      "sentencepiece            0.1.98\n",
      "setuptools               56.0.0\n",
      "six                      1.16.0\n",
      "sniffio                  1.2.0\n",
      "soupsieve                2.3.1\n",
      "SQLAlchemy               2.0.11\n",
      "stack-data               0.2.0\n",
      "starlette                0.26.1\n",
      "sympy                    1.11.1\n",
      "tenacity                 8.2.2\n",
      "terminado                0.13.3\n",
      "testpath                 0.6.0\n",
      "threadpoolctl            3.1.0\n",
      "tiktoken                 0.3.3\n",
      "tokenizers               0.13.3\n",
      "toml                     0.10.2\n",
      "torch                    2.0.0\n",
      "torchvision              0.15.1\n",
      "tornado                  6.1\n",
      "tqdm                     4.65.0\n",
      "traitlets                5.1.1\n",
      "transformers             4.28.1\n",
      "triton                   2.0.0\n",
      "typing_extensions        4.5.0\n",
      "typing-inspect           0.8.0\n",
      "urllib3                  1.26.15\n",
      "uvicorn                  0.22.0\n",
      "uvloop                   0.17.0\n",
      "watchfiles               0.19.0\n",
      "wcwidth                  0.2.5\n",
      "webencodings             0.5.1\n",
      "websocket-client         1.3.2\n",
      "websockets               11.0.2\n",
      "wheel                    0.40.0\n",
      "yarl                     1.9.2\n",
      "zipp                     3.8.0\n",
      "zstandard                0.21.0\n",
      "\u001b[33mWARNING: You are using pip version 22.0.4; however, version 23.1.2 is available.\n",
      "You should consider upgrading via the '/home/reibomaru/.anyenv/envs/pyenv/versions/3.8.16/bin/python3.8 -m pip install --upgrade pip' command.\u001b[0m\u001b[33m\n",
      "\u001b[0m"
     ]
    }
   ],
   "source": [
    "!pip list"
   ]
  },
  {
   "cell_type": "code",
   "execution_count": 9,
   "metadata": {
    "colab": {
     "base_uri": "https://localhost:8080/"
    },
    "id": "pRSxCOpIjhPP",
    "outputId": "e4498871-48b5-478c-f825-883396c58877",
    "tags": []
   },
   "outputs": [
    {
     "name": "stdin",
     "output_type": "stream",
     "text": [
      " ········\n"
     ]
    }
   ],
   "source": [
    "from getpass import getpass\n",
    "\n",
    "HUGGINGFACEHUB_API_TOKEN = getpass()"
   ]
  },
  {
   "cell_type": "code",
   "execution_count": 10,
   "metadata": {
    "id": "i2Ce5HZOkZ9d",
    "tags": []
   },
   "outputs": [],
   "source": [
    "import os\n",
    "os.environ[\"HUGGINGFACEHUB_API_TOKEN\"] = HUGGINGFACEHUB_API_TOKEN"
   ]
  },
  {
   "cell_type": "code",
   "execution_count": 11,
   "metadata": {
    "id": "XPmaOnEokhPW",
    "tags": []
   },
   "outputs": [
    {
     "name": "stderr",
     "output_type": "stream",
     "text": [
      "/home/reibomaru/.anyenv/envs/pyenv/versions/3.8.16/lib/python3.8/site-packages/tqdm/auto.py:21: TqdmWarning: IProgress not found. Please update jupyter and ipywidgets. See https://ipywidgets.readthedocs.io/en/stable/user_install.html\n",
      "  from .autonotebook import tqdm as notebook_tqdm\n"
     ]
    }
   ],
   "source": [
    "from langchain import HuggingFaceHub\n",
    "\n",
    "repo_id = \"stabilityai/stablelm-tuned-alpha-3b\" # See https://huggingface.co/models?pipeline_tag=text-generation&sort=downloads for some other options\n",
    "\n",
    "llm = HuggingFaceHub(repo_id=repo_id, model_kwargs={\"temperature\":0, \"max_length\":64})"
   ]
  },
  {
   "cell_type": "code",
   "execution_count": 12,
   "metadata": {
    "colab": {
     "base_uri": "https://localhost:8080/"
    },
    "id": "ouS8vVSSkoxh",
    "outputId": "c79ca0fa-5235-4bbe-8a30-581f1e91d79e"
   },
   "outputs": [
    {
     "name": "stdout",
     "output_type": "stream",
     "text": [
      "Who is the current Prime Minister of Japan?As of August 2021, the current Prime Minister of Japan is Naoto Kan.\n"
     ]
    }
   ],
   "source": [
    "from langchain import PromptTemplate, LLMChain\n",
    "\n",
    "template = \"\"\"Question: {question}\n",
    "\n",
    "Answer: Let's think step by step.\"\"\"\n",
    "prompt = PromptTemplate(template=template, input_variables=[\"question\"])\n",
    "llm_chain = LLMChain(prompt=prompt, llm=llm)\n",
    "\n",
    "question = \"Who is the current Prime Minister of Japan?\"\n",
    "\n",
    "print(llm_chain.run(question))"
   ]
  },
  {
   "cell_type": "code",
   "execution_count": 13,
   "metadata": {
    "colab": {
     "base_uri": "https://localhost:8080/"
    },
    "id": "CicOft_DF8Lr",
    "outputId": "805c3169-dbb0-4ac3-ccc9-5e9b579e5112",
    "tags": []
   },
   "outputs": [
    {
     "name": "stdin",
     "output_type": "stream",
     "text": [
      " ········\n"
     ]
    }
   ],
   "source": [
    "from getpass import getpass\n",
    "\n",
    "OPENAI_API_KEY = getpass()"
   ]
  },
  {
   "cell_type": "code",
   "execution_count": 14,
   "metadata": {
    "id": "7LZGWtd8GBzj",
    "tags": []
   },
   "outputs": [],
   "source": [
    "import os\n",
    "os.environ[\"OPENAI_API_KEY\"] = OPENAI_API_KEY"
   ]
  },
  {
   "cell_type": "code",
   "execution_count": 35,
   "metadata": {
    "id": "Ef-JOp6omBJ-",
    "tags": []
   },
   "outputs": [],
   "source": [
    "from langchain.document_loaders import TextLoader\n",
    "loader = TextLoader('./bleach_summary.txt', encoding=\"utf-8\")"
   ]
  },
  {
   "cell_type": "code",
   "execution_count": 20,
   "metadata": {
    "colab": {
     "base_uri": "https://localhost:8080/",
     "height": 453
    },
    "id": "aJUUMM7JE821",
    "outputId": "a71edce7-e712-4478-a2b6-88e89fa26de8"
   },
   "outputs": [
    {
     "name": "stderr",
     "output_type": "stream",
     "text": [
      "Using embedded DuckDB without persistence: data will be transient\n"
     ]
    }
   ],
   "source": [
    "from langchain.indexes import VectorstoreIndexCreator\n",
    "index = VectorstoreIndexCreator().from_loaders([loader])"
   ]
  },
  {
   "cell_type": "code",
   "execution_count": 21,
   "metadata": {
    "colab": {
     "base_uri": "https://localhost:8080/"
    },
    "id": "sjLyjSlhG_uE",
    "outputId": "f9449c48-5f08-461d-b4be-bdb7eb8fe032"
   },
   "outputs": [
    {
     "data": {
      "text/plain": [
       "\" The president said that Ketanji Brown Jackson is one of the nation's top legal minds, a former top litigator in private practice, a former federal public defender, and from a family of public school educators and police officers. He also said that she is a consensus builder and has received a broad range of support from the Fraternal Order of Police to former judges appointed by Democrats and Republicans.\""
      ]
     },
     "execution_count": 21,
     "metadata": {},
     "output_type": "execute_result"
    }
   ],
   "source": [
    "index.query(\"What did the president say about Ketanji Brown Jackson\")"
   ]
  },
  {
   "cell_type": "code",
   "execution_count": 22,
   "metadata": {
    "id": "9Wzr4e5qFFFO"
   },
   "outputs": [
    {
     "data": {
      "text/plain": [
       "{'question': 'What did the president say about Ketanji Brown Jackson',\n",
       " 'answer': \" The president said that he nominated Circuit Court of Appeals Judge Ketanji Brown Jackson, one of the nation's top legal minds, who will continue Justice Breyer's legacy of excellence, and that she has received a broad range of support from the Fraternal Order of Police to former judges appointed by Democrats and Republicans.\\n\",\n",
       " 'sources': './state_of_the_union.txt'}"
      ]
     },
     "execution_count": 22,
     "metadata": {},
     "output_type": "execute_result"
    }
   ],
   "source": [
    "query = \"What did the president say about Ketanji Brown Jackson\"\n",
    "index.query_with_sources(query)"
   ]
  },
  {
   "cell_type": "code",
   "execution_count": 36,
   "metadata": {},
   "outputs": [],
   "source": [
    "from langchain.text_splitter import CharacterTextSplitter\n",
    "\n",
    "documents = loader.load()\n",
    "text_splitter = CharacterTextSplitter(chunk_size=1000, chunk_overlap=0)\n",
    "texts = text_splitter.split_documents(documents)"
   ]
  },
  {
   "cell_type": "code",
   "execution_count": 37,
   "metadata": {
    "tags": []
   },
   "outputs": [],
   "source": [
    "from langchain.embeddings import OpenAIEmbeddings\n",
    "embeddings = OpenAIEmbeddings()"
   ]
  },
  {
   "cell_type": "code",
   "execution_count": 38,
   "metadata": {
    "tags": []
   },
   "outputs": [
    {
     "name": "stderr",
     "output_type": "stream",
     "text": [
      "Using embedded DuckDB without persistence: data will be transient\n"
     ]
    }
   ],
   "source": [
    "from langchain.vectorstores import Chroma\n",
    "db = Chroma.from_documents(texts, embeddings)"
   ]
  },
  {
   "cell_type": "code",
   "execution_count": 39,
   "metadata": {
    "tags": []
   },
   "outputs": [],
   "source": [
    "retriever = db.as_retriever()"
   ]
  },
  {
   "cell_type": "code",
   "execution_count": 40,
   "metadata": {
    "tags": []
   },
   "outputs": [],
   "source": [
    "from langchain.chains import RetrievalQA\n",
    "from langchain.llms import OpenAI"
   ]
  },
  {
   "cell_type": "code",
   "execution_count": 43,
   "metadata": {
    "tags": []
   },
   "outputs": [],
   "source": [
    "qa = RetrievalQA.from_chain_type(llm=OpenAI(), chain_type=\"map_reduce\", retriever=retriever)"
   ]
  },
  {
   "cell_type": "code",
   "execution_count": 45,
   "metadata": {
    "tags": []
   },
   "outputs": [
    {
     "data": {
      "text/plain": [
       "'チャドは、藍染が織姫を拐った理由である護廷十三番隊の戦力の分散を阻止するため、一護と共に空座町をレプリカとして襲撃した際の助けとなり、ユーハバッハに能力を一瞬無にする「銀の鏃」を打ち込むなどの活躍をした。'"
      ]
     },
     "execution_count": 45,
     "metadata": {},
     "output_type": "execute_result"
    }
   ],
   "source": [
    "query = \"Bleachの登場人物であるチャドはどのような活躍をしましたか？\"\n",
    "qa.run(query)"
   ]
  },
  {
   "cell_type": "code",
   "execution_count": 46,
   "metadata": {
    "tags": []
   },
   "outputs": [
    {
     "data": {
      "text/plain": [
       "' 雨竜は、藍染が織姫を拐われた事件において、虚園へと織姫救出に向かい、ユーハバッハの攻撃を仕掛ける隙を見逃さず攻撃し、ルキアの奪還に向かう活躍をしました。'"
      ]
     },
     "execution_count": 46,
     "metadata": {},
     "output_type": "execute_result"
    }
   ],
   "source": [
    "query = \"Bleachの登場人物である雨竜はどのような活躍をしましたか？\"\n",
    "qa.run(query)"
   ]
  },
  {
   "cell_type": "code",
   "execution_count": 47,
   "metadata": {
    "tags": []
   },
   "outputs": [
    {
     "data": {
      "text/plain": [
       "\" I don't know.\""
      ]
     },
     "execution_count": 47,
     "metadata": {},
     "output_type": "execute_result"
    }
   ],
   "source": [
    "query = \"どうして黒崎一護は死神代行になったのですか？\"\n",
    "qa.run(query)"
   ]
  },
  {
   "cell_type": "code",
   "execution_count": 48,
   "metadata": {
    "tags": []
   },
   "outputs": [
    {
     "data": {
      "text/plain": [
       "' 黒崎一護のライバルは雨竜、織姫、チャド、夜一、ユーハバッハ、藍染の6人です。'"
      ]
     },
     "execution_count": 48,
     "metadata": {},
     "output_type": "execute_result"
    }
   ],
   "source": [
    "query = \"黒崎一護のライバルは誰ですか？\"\n",
    "qa.run(query)"
   ]
  },
  {
   "cell_type": "code",
   "execution_count": null,
   "metadata": {},
   "outputs": [],
   "source": []
  }
 ],
 "metadata": {
  "colab": {
   "provenance": []
  },
  "kernelspec": {
   "display_name": "python3.8.16",
   "language": "python",
   "name": "python3.8.16"
  },
  "language_info": {
   "codemirror_mode": {
    "name": "ipython",
    "version": 3
   },
   "file_extension": ".py",
   "mimetype": "text/x-python",
   "name": "python",
   "nbconvert_exporter": "python",
   "pygments_lexer": "ipython3",
   "version": "3.8.16"
  }
 },
 "nbformat": 4,
 "nbformat_minor": 4
}
